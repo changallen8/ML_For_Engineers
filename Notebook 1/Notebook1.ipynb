{
 "cells": [
  {
   "cell_type": "markdown",
   "metadata": {},
   "source": [
    "# 1. Heart Failure Prediction Dataset"
   ]
  },
  {
   "cell_type": "code",
   "execution_count": 58,
   "metadata": {},
   "outputs": [],
   "source": [
    "import numpy as np\n",
    "import pandas as pd"
   ]
  },
  {
   "cell_type": "code",
   "execution_count": 59,
   "metadata": {},
   "outputs": [
    {
     "name": "stdout",
     "output_type": "stream",
     "text": [
      "(299, 13)\n"
     ]
    }
   ],
   "source": [
    "#1.1a\n",
    "heart_df = pd.read_csv('datasets/heart_failure_dataset.csv')\n",
    "print(heart_df.shape)\n"
   ]
  },
  {
   "cell_type": "code",
   "execution_count": 60,
   "metadata": {},
   "outputs": [
    {
     "name": "stdout",
     "output_type": "stream",
     "text": [
      "[RangeIndex(start=0, stop=299, step=1), Index(['age', 'anaemia', 'creatinine_phosphokinase', 'diabetes',\n",
      "       'ejection_fraction', 'high_blood_pressure', 'platelets',\n",
      "       'serum_creatinine', 'serum_sodium', 'sex', 'smoking', 'time',\n",
      "       'DEATH_EVENT'],\n",
      "      dtype='object')]\n"
     ]
    }
   ],
   "source": [
    "print(heart_df.axes)\n"
   ]
  },
  {
   "cell_type": "code",
   "execution_count": 61,
   "metadata": {},
   "outputs": [
    {
     "name": "stdout",
     "output_type": "stream",
     "text": [
      "age                         float64\n",
      "anaemia                       int64\n",
      "creatinine_phosphokinase      int64\n",
      "diabetes                      int64\n",
      "ejection_fraction             int64\n",
      "high_blood_pressure           int64\n",
      "platelets                   float64\n",
      "serum_creatinine            float64\n",
      "serum_sodium                  int64\n",
      "sex                           int64\n",
      "smoking                       int64\n",
      "time                          int64\n",
      "DEATH_EVENT                   int64\n",
      "dtype: object\n"
     ]
    }
   ],
   "source": [
    "print(heart_df.dtypes)\n"
   ]
  },
  {
   "cell_type": "code",
   "execution_count": 62,
   "metadata": {},
   "outputs": [
    {
     "data": {
      "text/html": [
       "<div>\n",
       "<style scoped>\n",
       "    .dataframe tbody tr th:only-of-type {\n",
       "        vertical-align: middle;\n",
       "    }\n",
       "\n",
       "    .dataframe tbody tr th {\n",
       "        vertical-align: top;\n",
       "    }\n",
       "\n",
       "    .dataframe thead th {\n",
       "        text-align: right;\n",
       "    }\n",
       "</style>\n",
       "<table border=\"1\" class=\"dataframe\">\n",
       "  <thead>\n",
       "    <tr style=\"text-align: right;\">\n",
       "      <th></th>\n",
       "      <th>age</th>\n",
       "      <th>anaemia</th>\n",
       "      <th>creatinine_phosphokinase</th>\n",
       "      <th>diabetes</th>\n",
       "      <th>ejection_fraction</th>\n",
       "      <th>high_blood_pressure</th>\n",
       "      <th>platelets</th>\n",
       "      <th>serum_creatinine</th>\n",
       "      <th>serum_sodium</th>\n",
       "      <th>sex</th>\n",
       "      <th>smoking</th>\n",
       "      <th>time</th>\n",
       "      <th>DEATH_EVENT</th>\n",
       "    </tr>\n",
       "  </thead>\n",
       "  <tbody>\n",
       "    <tr>\n",
       "      <th>0</th>\n",
       "      <td>75.0</td>\n",
       "      <td>0</td>\n",
       "      <td>582</td>\n",
       "      <td>0</td>\n",
       "      <td>20</td>\n",
       "      <td>1</td>\n",
       "      <td>265000.00</td>\n",
       "      <td>1.9</td>\n",
       "      <td>130</td>\n",
       "      <td>1</td>\n",
       "      <td>0</td>\n",
       "      <td>4</td>\n",
       "      <td>1</td>\n",
       "    </tr>\n",
       "    <tr>\n",
       "      <th>1</th>\n",
       "      <td>55.0</td>\n",
       "      <td>0</td>\n",
       "      <td>7861</td>\n",
       "      <td>0</td>\n",
       "      <td>38</td>\n",
       "      <td>0</td>\n",
       "      <td>263358.03</td>\n",
       "      <td>1.1</td>\n",
       "      <td>136</td>\n",
       "      <td>1</td>\n",
       "      <td>0</td>\n",
       "      <td>6</td>\n",
       "      <td>1</td>\n",
       "    </tr>\n",
       "    <tr>\n",
       "      <th>2</th>\n",
       "      <td>65.0</td>\n",
       "      <td>0</td>\n",
       "      <td>146</td>\n",
       "      <td>0</td>\n",
       "      <td>20</td>\n",
       "      <td>0</td>\n",
       "      <td>162000.00</td>\n",
       "      <td>1.3</td>\n",
       "      <td>129</td>\n",
       "      <td>1</td>\n",
       "      <td>1</td>\n",
       "      <td>7</td>\n",
       "      <td>1</td>\n",
       "    </tr>\n",
       "    <tr>\n",
       "      <th>3</th>\n",
       "      <td>50.0</td>\n",
       "      <td>1</td>\n",
       "      <td>111</td>\n",
       "      <td>0</td>\n",
       "      <td>20</td>\n",
       "      <td>0</td>\n",
       "      <td>210000.00</td>\n",
       "      <td>1.9</td>\n",
       "      <td>137</td>\n",
       "      <td>1</td>\n",
       "      <td>0</td>\n",
       "      <td>7</td>\n",
       "      <td>1</td>\n",
       "    </tr>\n",
       "    <tr>\n",
       "      <th>4</th>\n",
       "      <td>65.0</td>\n",
       "      <td>1</td>\n",
       "      <td>160</td>\n",
       "      <td>1</td>\n",
       "      <td>20</td>\n",
       "      <td>0</td>\n",
       "      <td>327000.00</td>\n",
       "      <td>2.7</td>\n",
       "      <td>116</td>\n",
       "      <td>0</td>\n",
       "      <td>0</td>\n",
       "      <td>8</td>\n",
       "      <td>1</td>\n",
       "    </tr>\n",
       "    <tr>\n",
       "      <th>5</th>\n",
       "      <td>90.0</td>\n",
       "      <td>1</td>\n",
       "      <td>47</td>\n",
       "      <td>0</td>\n",
       "      <td>40</td>\n",
       "      <td>1</td>\n",
       "      <td>204000.00</td>\n",
       "      <td>2.1</td>\n",
       "      <td>132</td>\n",
       "      <td>1</td>\n",
       "      <td>1</td>\n",
       "      <td>8</td>\n",
       "      <td>1</td>\n",
       "    </tr>\n",
       "    <tr>\n",
       "      <th>6</th>\n",
       "      <td>75.0</td>\n",
       "      <td>1</td>\n",
       "      <td>246</td>\n",
       "      <td>0</td>\n",
       "      <td>15</td>\n",
       "      <td>0</td>\n",
       "      <td>127000.00</td>\n",
       "      <td>1.2</td>\n",
       "      <td>137</td>\n",
       "      <td>1</td>\n",
       "      <td>0</td>\n",
       "      <td>10</td>\n",
       "      <td>1</td>\n",
       "    </tr>\n",
       "    <tr>\n",
       "      <th>7</th>\n",
       "      <td>60.0</td>\n",
       "      <td>1</td>\n",
       "      <td>315</td>\n",
       "      <td>1</td>\n",
       "      <td>60</td>\n",
       "      <td>0</td>\n",
       "      <td>454000.00</td>\n",
       "      <td>1.1</td>\n",
       "      <td>131</td>\n",
       "      <td>1</td>\n",
       "      <td>1</td>\n",
       "      <td>10</td>\n",
       "      <td>1</td>\n",
       "    </tr>\n",
       "    <tr>\n",
       "      <th>8</th>\n",
       "      <td>65.0</td>\n",
       "      <td>0</td>\n",
       "      <td>157</td>\n",
       "      <td>0</td>\n",
       "      <td>65</td>\n",
       "      <td>0</td>\n",
       "      <td>263358.03</td>\n",
       "      <td>1.5</td>\n",
       "      <td>138</td>\n",
       "      <td>0</td>\n",
       "      <td>0</td>\n",
       "      <td>10</td>\n",
       "      <td>1</td>\n",
       "    </tr>\n",
       "    <tr>\n",
       "      <th>9</th>\n",
       "      <td>80.0</td>\n",
       "      <td>1</td>\n",
       "      <td>123</td>\n",
       "      <td>0</td>\n",
       "      <td>35</td>\n",
       "      <td>1</td>\n",
       "      <td>388000.00</td>\n",
       "      <td>9.4</td>\n",
       "      <td>133</td>\n",
       "      <td>1</td>\n",
       "      <td>1</td>\n",
       "      <td>10</td>\n",
       "      <td>1</td>\n",
       "    </tr>\n",
       "  </tbody>\n",
       "</table>\n",
       "</div>"
      ],
      "text/plain": [
       "    age  anaemia  creatinine_phosphokinase  diabetes  ejection_fraction  \\\n",
       "0  75.0        0                       582         0                 20   \n",
       "1  55.0        0                      7861         0                 38   \n",
       "2  65.0        0                       146         0                 20   \n",
       "3  50.0        1                       111         0                 20   \n",
       "4  65.0        1                       160         1                 20   \n",
       "5  90.0        1                        47         0                 40   \n",
       "6  75.0        1                       246         0                 15   \n",
       "7  60.0        1                       315         1                 60   \n",
       "8  65.0        0                       157         0                 65   \n",
       "9  80.0        1                       123         0                 35   \n",
       "\n",
       "   high_blood_pressure  platelets  serum_creatinine  serum_sodium  sex  \\\n",
       "0                    1  265000.00               1.9           130    1   \n",
       "1                    0  263358.03               1.1           136    1   \n",
       "2                    0  162000.00               1.3           129    1   \n",
       "3                    0  210000.00               1.9           137    1   \n",
       "4                    0  327000.00               2.7           116    0   \n",
       "5                    1  204000.00               2.1           132    1   \n",
       "6                    0  127000.00               1.2           137    1   \n",
       "7                    0  454000.00               1.1           131    1   \n",
       "8                    0  263358.03               1.5           138    0   \n",
       "9                    1  388000.00               9.4           133    1   \n",
       "\n",
       "   smoking  time  DEATH_EVENT  \n",
       "0        0     4            1  \n",
       "1        0     6            1  \n",
       "2        1     7            1  \n",
       "3        0     7            1  \n",
       "4        0     8            1  \n",
       "5        1     8            1  \n",
       "6        0    10            1  \n",
       "7        1    10            1  \n",
       "8        0    10            1  \n",
       "9        1    10            1  "
      ]
     },
     "execution_count": 62,
     "metadata": {},
     "output_type": "execute_result"
    }
   ],
   "source": [
    "#1.1b\n",
    "heart_df.head(10)"
   ]
  },
  {
   "cell_type": "markdown",
   "metadata": {},
   "source": [
    "**1.1c** Each row of heart_df dataframe can be termed an **instance** within the machine learning parlance."
   ]
  },
  {
   "cell_type": "markdown",
   "metadata": {},
   "source": [
    "**1.1d** We are dealing with a supervised learning problem. This is because our dataset has a distinct labelled output, DEATH_EVENT. We are attempting to find relationships between the input and output variables to evaluate whether a person will die due to heart failure.\n"
   ]
  },
  {
   "cell_type": "markdown",
   "metadata": {},
   "source": [
    "**1.1e** This dataset has 12 independent variables. These variables are:\n",
    "1. age\n",
    "2. anaemia\n",
    "3. creatinine_phosphokinase\n",
    "4. diabetes\n",
    "5. ejection_fraction\n",
    "6. high_blood_pressure\n",
    "7. platelets\n",
    "8. serum_creatinine\n",
    "9. serum_sodium\n",
    "10. sex\n",
    "11. smoking\n",
    "12. time\n"
   ]
  },
  {
   "cell_type": "markdown",
   "metadata": {},
   "source": [
    "**1.1f** This dataset has only 1 dependent variable.\n",
    "- DEATH_EVENT"
   ]
  },
  {
   "cell_type": "markdown",
   "metadata": {},
   "source": [
    "**1.1g** This dataset contains 6 categorical variables. These variables are: \n",
    "1. anaemia\n",
    "2. diabetes\n",
    "3. high_blood_pressure\n",
    "4. sex\n",
    "5. smoking\n",
    "6. DEATH_EVENT"
   ]
  },
  {
   "cell_type": "markdown",
   "metadata": {},
   "source": [
    "**1.1h** The cateforical variables in the dataset Ordinal encoding."
   ]
  },
  {
   "cell_type": "code",
   "execution_count": 63,
   "metadata": {},
   "outputs": [
    {
     "name": "stdout",
     "output_type": "stream",
     "text": [
      "Deceased: 96\n",
      "Remaining 203\n"
     ]
    }
   ],
   "source": [
    "#1.1j\n",
    "print(\"Deceased:\", len(heart_df[heart_df.DEATH_EVENT == 1]))\n",
    "print(\"Remaining\", len(heart_df[heart_df.DEATH_EVENT == 0]))\n"
   ]
  },
  {
   "cell_type": "markdown",
   "metadata": {},
   "source": [
    "There are 96 deceased patients and 203 patients remaining."
   ]
  },
  {
   "cell_type": "code",
   "execution_count": 64,
   "metadata": {},
   "outputs": [
    {
     "name": "stdout",
     "output_type": "stream",
     "text": [
      "Women: 105\n",
      "Male: 194\n"
     ]
    }
   ],
   "source": [
    "#1.1j\n",
    "print(\"Women:\", len(heart_df[heart_df.sex == 0]))\n",
    "print(\"Male:\", len(heart_df[heart_df.sex == 1]))\n"
   ]
  },
  {
   "cell_type": "markdown",
   "metadata": {},
   "source": [
    "There are 105 women patients and 194 male patients."
   ]
  },
  {
   "cell_type": "code",
   "execution_count": 65,
   "metadata": {},
   "outputs": [
    {
     "name": "stdout",
     "output_type": "stream",
     "text": [
      "Smokers: 96\n",
      "Non-smokers: 203\n"
     ]
    }
   ],
   "source": [
    "#1.1k\n",
    "print(\"Smokers:\", len(heart_df[heart_df.smoking == 1]))\n",
    "print(\"Non-smokers:\", len(heart_df[heart_df.smoking == 0]))\n"
   ]
  },
  {
   "cell_type": "markdown",
   "metadata": {},
   "source": [
    "There are 96 smokers and 203 non-smokers."
   ]
  },
  {
   "cell_type": "code",
   "execution_count": 66,
   "metadata": {},
   "outputs": [
    {
     "data": {
      "text/html": [
       "<div>\n",
       "<style scoped>\n",
       "    .dataframe tbody tr th:only-of-type {\n",
       "        vertical-align: middle;\n",
       "    }\n",
       "\n",
       "    .dataframe tbody tr th {\n",
       "        vertical-align: top;\n",
       "    }\n",
       "\n",
       "    .dataframe thead th {\n",
       "        text-align: right;\n",
       "    }\n",
       "</style>\n",
       "<table border=\"1\" class=\"dataframe\">\n",
       "  <thead>\n",
       "    <tr style=\"text-align: right;\">\n",
       "      <th></th>\n",
       "      <th>age</th>\n",
       "      <th>anaemia</th>\n",
       "      <th>creatinine_phosphokinase</th>\n",
       "      <th>diabetes</th>\n",
       "      <th>ejection_fraction</th>\n",
       "      <th>high_blood_pressure</th>\n",
       "      <th>platelets</th>\n",
       "      <th>serum_creatinine</th>\n",
       "      <th>serum_sodium</th>\n",
       "      <th>sex</th>\n",
       "      <th>smoking</th>\n",
       "      <th>time</th>\n",
       "      <th>DEATH_EVENT</th>\n",
       "    </tr>\n",
       "  </thead>\n",
       "  <tbody>\n",
       "    <tr>\n",
       "      <th>age</th>\n",
       "      <td>1.000000</td>\n",
       "      <td>0.088006</td>\n",
       "      <td>-0.081584</td>\n",
       "      <td>-0.101012</td>\n",
       "      <td>0.060098</td>\n",
       "      <td>0.093289</td>\n",
       "      <td>-0.052354</td>\n",
       "      <td>0.159187</td>\n",
       "      <td>-0.045966</td>\n",
       "      <td>0.065430</td>\n",
       "      <td>0.018668</td>\n",
       "      <td>-0.224068</td>\n",
       "      <td>0.253729</td>\n",
       "    </tr>\n",
       "    <tr>\n",
       "      <th>anaemia</th>\n",
       "      <td>0.088006</td>\n",
       "      <td>1.000000</td>\n",
       "      <td>-0.190741</td>\n",
       "      <td>-0.012729</td>\n",
       "      <td>0.031557</td>\n",
       "      <td>0.038182</td>\n",
       "      <td>-0.043786</td>\n",
       "      <td>0.052174</td>\n",
       "      <td>0.041882</td>\n",
       "      <td>-0.094769</td>\n",
       "      <td>-0.107290</td>\n",
       "      <td>-0.141414</td>\n",
       "      <td>0.066270</td>\n",
       "    </tr>\n",
       "    <tr>\n",
       "      <th>creatinine_phosphokinase</th>\n",
       "      <td>-0.081584</td>\n",
       "      <td>-0.190741</td>\n",
       "      <td>1.000000</td>\n",
       "      <td>-0.009639</td>\n",
       "      <td>-0.044080</td>\n",
       "      <td>-0.070590</td>\n",
       "      <td>0.024463</td>\n",
       "      <td>-0.016408</td>\n",
       "      <td>0.059550</td>\n",
       "      <td>0.079791</td>\n",
       "      <td>0.002421</td>\n",
       "      <td>-0.009346</td>\n",
       "      <td>0.062728</td>\n",
       "    </tr>\n",
       "    <tr>\n",
       "      <th>diabetes</th>\n",
       "      <td>-0.101012</td>\n",
       "      <td>-0.012729</td>\n",
       "      <td>-0.009639</td>\n",
       "      <td>1.000000</td>\n",
       "      <td>-0.004850</td>\n",
       "      <td>-0.012732</td>\n",
       "      <td>0.092193</td>\n",
       "      <td>-0.046975</td>\n",
       "      <td>-0.089551</td>\n",
       "      <td>-0.157730</td>\n",
       "      <td>-0.147173</td>\n",
       "      <td>0.033726</td>\n",
       "      <td>-0.001943</td>\n",
       "    </tr>\n",
       "    <tr>\n",
       "      <th>ejection_fraction</th>\n",
       "      <td>0.060098</td>\n",
       "      <td>0.031557</td>\n",
       "      <td>-0.044080</td>\n",
       "      <td>-0.004850</td>\n",
       "      <td>1.000000</td>\n",
       "      <td>0.024445</td>\n",
       "      <td>0.072177</td>\n",
       "      <td>-0.011302</td>\n",
       "      <td>0.175902</td>\n",
       "      <td>-0.148386</td>\n",
       "      <td>-0.067315</td>\n",
       "      <td>0.041729</td>\n",
       "      <td>-0.268603</td>\n",
       "    </tr>\n",
       "    <tr>\n",
       "      <th>high_blood_pressure</th>\n",
       "      <td>0.093289</td>\n",
       "      <td>0.038182</td>\n",
       "      <td>-0.070590</td>\n",
       "      <td>-0.012732</td>\n",
       "      <td>0.024445</td>\n",
       "      <td>1.000000</td>\n",
       "      <td>0.049963</td>\n",
       "      <td>-0.004935</td>\n",
       "      <td>0.037109</td>\n",
       "      <td>-0.104615</td>\n",
       "      <td>-0.055711</td>\n",
       "      <td>-0.196439</td>\n",
       "      <td>0.079351</td>\n",
       "    </tr>\n",
       "    <tr>\n",
       "      <th>platelets</th>\n",
       "      <td>-0.052354</td>\n",
       "      <td>-0.043786</td>\n",
       "      <td>0.024463</td>\n",
       "      <td>0.092193</td>\n",
       "      <td>0.072177</td>\n",
       "      <td>0.049963</td>\n",
       "      <td>1.000000</td>\n",
       "      <td>-0.041198</td>\n",
       "      <td>0.062125</td>\n",
       "      <td>-0.125120</td>\n",
       "      <td>0.028234</td>\n",
       "      <td>0.010514</td>\n",
       "      <td>-0.049139</td>\n",
       "    </tr>\n",
       "    <tr>\n",
       "      <th>serum_creatinine</th>\n",
       "      <td>0.159187</td>\n",
       "      <td>0.052174</td>\n",
       "      <td>-0.016408</td>\n",
       "      <td>-0.046975</td>\n",
       "      <td>-0.011302</td>\n",
       "      <td>-0.004935</td>\n",
       "      <td>-0.041198</td>\n",
       "      <td>1.000000</td>\n",
       "      <td>-0.189095</td>\n",
       "      <td>0.006970</td>\n",
       "      <td>-0.027414</td>\n",
       "      <td>-0.149315</td>\n",
       "      <td>0.294278</td>\n",
       "    </tr>\n",
       "    <tr>\n",
       "      <th>serum_sodium</th>\n",
       "      <td>-0.045966</td>\n",
       "      <td>0.041882</td>\n",
       "      <td>0.059550</td>\n",
       "      <td>-0.089551</td>\n",
       "      <td>0.175902</td>\n",
       "      <td>0.037109</td>\n",
       "      <td>0.062125</td>\n",
       "      <td>-0.189095</td>\n",
       "      <td>1.000000</td>\n",
       "      <td>-0.027566</td>\n",
       "      <td>0.004813</td>\n",
       "      <td>0.087640</td>\n",
       "      <td>-0.195204</td>\n",
       "    </tr>\n",
       "    <tr>\n",
       "      <th>sex</th>\n",
       "      <td>0.065430</td>\n",
       "      <td>-0.094769</td>\n",
       "      <td>0.079791</td>\n",
       "      <td>-0.157730</td>\n",
       "      <td>-0.148386</td>\n",
       "      <td>-0.104615</td>\n",
       "      <td>-0.125120</td>\n",
       "      <td>0.006970</td>\n",
       "      <td>-0.027566</td>\n",
       "      <td>1.000000</td>\n",
       "      <td>0.445892</td>\n",
       "      <td>-0.015608</td>\n",
       "      <td>-0.004316</td>\n",
       "    </tr>\n",
       "    <tr>\n",
       "      <th>smoking</th>\n",
       "      <td>0.018668</td>\n",
       "      <td>-0.107290</td>\n",
       "      <td>0.002421</td>\n",
       "      <td>-0.147173</td>\n",
       "      <td>-0.067315</td>\n",
       "      <td>-0.055711</td>\n",
       "      <td>0.028234</td>\n",
       "      <td>-0.027414</td>\n",
       "      <td>0.004813</td>\n",
       "      <td>0.445892</td>\n",
       "      <td>1.000000</td>\n",
       "      <td>-0.022839</td>\n",
       "      <td>-0.012623</td>\n",
       "    </tr>\n",
       "    <tr>\n",
       "      <th>time</th>\n",
       "      <td>-0.224068</td>\n",
       "      <td>-0.141414</td>\n",
       "      <td>-0.009346</td>\n",
       "      <td>0.033726</td>\n",
       "      <td>0.041729</td>\n",
       "      <td>-0.196439</td>\n",
       "      <td>0.010514</td>\n",
       "      <td>-0.149315</td>\n",
       "      <td>0.087640</td>\n",
       "      <td>-0.015608</td>\n",
       "      <td>-0.022839</td>\n",
       "      <td>1.000000</td>\n",
       "      <td>-0.526964</td>\n",
       "    </tr>\n",
       "    <tr>\n",
       "      <th>DEATH_EVENT</th>\n",
       "      <td>0.253729</td>\n",
       "      <td>0.066270</td>\n",
       "      <td>0.062728</td>\n",
       "      <td>-0.001943</td>\n",
       "      <td>-0.268603</td>\n",
       "      <td>0.079351</td>\n",
       "      <td>-0.049139</td>\n",
       "      <td>0.294278</td>\n",
       "      <td>-0.195204</td>\n",
       "      <td>-0.004316</td>\n",
       "      <td>-0.012623</td>\n",
       "      <td>-0.526964</td>\n",
       "      <td>1.000000</td>\n",
       "    </tr>\n",
       "  </tbody>\n",
       "</table>\n",
       "</div>"
      ],
      "text/plain": [
       "                               age   anaemia  creatinine_phosphokinase  \\\n",
       "age                       1.000000  0.088006                 -0.081584   \n",
       "anaemia                   0.088006  1.000000                 -0.190741   \n",
       "creatinine_phosphokinase -0.081584 -0.190741                  1.000000   \n",
       "diabetes                 -0.101012 -0.012729                 -0.009639   \n",
       "ejection_fraction         0.060098  0.031557                 -0.044080   \n",
       "high_blood_pressure       0.093289  0.038182                 -0.070590   \n",
       "platelets                -0.052354 -0.043786                  0.024463   \n",
       "serum_creatinine          0.159187  0.052174                 -0.016408   \n",
       "serum_sodium             -0.045966  0.041882                  0.059550   \n",
       "sex                       0.065430 -0.094769                  0.079791   \n",
       "smoking                   0.018668 -0.107290                  0.002421   \n",
       "time                     -0.224068 -0.141414                 -0.009346   \n",
       "DEATH_EVENT               0.253729  0.066270                  0.062728   \n",
       "\n",
       "                          diabetes  ejection_fraction  high_blood_pressure  \\\n",
       "age                      -0.101012           0.060098             0.093289   \n",
       "anaemia                  -0.012729           0.031557             0.038182   \n",
       "creatinine_phosphokinase -0.009639          -0.044080            -0.070590   \n",
       "diabetes                  1.000000          -0.004850            -0.012732   \n",
       "ejection_fraction        -0.004850           1.000000             0.024445   \n",
       "high_blood_pressure      -0.012732           0.024445             1.000000   \n",
       "platelets                 0.092193           0.072177             0.049963   \n",
       "serum_creatinine         -0.046975          -0.011302            -0.004935   \n",
       "serum_sodium             -0.089551           0.175902             0.037109   \n",
       "sex                      -0.157730          -0.148386            -0.104615   \n",
       "smoking                  -0.147173          -0.067315            -0.055711   \n",
       "time                      0.033726           0.041729            -0.196439   \n",
       "DEATH_EVENT              -0.001943          -0.268603             0.079351   \n",
       "\n",
       "                          platelets  serum_creatinine  serum_sodium       sex  \\\n",
       "age                       -0.052354          0.159187     -0.045966  0.065430   \n",
       "anaemia                   -0.043786          0.052174      0.041882 -0.094769   \n",
       "creatinine_phosphokinase   0.024463         -0.016408      0.059550  0.079791   \n",
       "diabetes                   0.092193         -0.046975     -0.089551 -0.157730   \n",
       "ejection_fraction          0.072177         -0.011302      0.175902 -0.148386   \n",
       "high_blood_pressure        0.049963         -0.004935      0.037109 -0.104615   \n",
       "platelets                  1.000000         -0.041198      0.062125 -0.125120   \n",
       "serum_creatinine          -0.041198          1.000000     -0.189095  0.006970   \n",
       "serum_sodium               0.062125         -0.189095      1.000000 -0.027566   \n",
       "sex                       -0.125120          0.006970     -0.027566  1.000000   \n",
       "smoking                    0.028234         -0.027414      0.004813  0.445892   \n",
       "time                       0.010514         -0.149315      0.087640 -0.015608   \n",
       "DEATH_EVENT               -0.049139          0.294278     -0.195204 -0.004316   \n",
       "\n",
       "                           smoking      time  DEATH_EVENT  \n",
       "age                       0.018668 -0.224068     0.253729  \n",
       "anaemia                  -0.107290 -0.141414     0.066270  \n",
       "creatinine_phosphokinase  0.002421 -0.009346     0.062728  \n",
       "diabetes                 -0.147173  0.033726    -0.001943  \n",
       "ejection_fraction        -0.067315  0.041729    -0.268603  \n",
       "high_blood_pressure      -0.055711 -0.196439     0.079351  \n",
       "platelets                 0.028234  0.010514    -0.049139  \n",
       "serum_creatinine         -0.027414 -0.149315     0.294278  \n",
       "serum_sodium              0.004813  0.087640    -0.195204  \n",
       "sex                       0.445892 -0.015608    -0.004316  \n",
       "smoking                   1.000000 -0.022839    -0.012623  \n",
       "time                     -0.022839  1.000000    -0.526964  \n",
       "DEATH_EVENT              -0.012623 -0.526964     1.000000  "
      ]
     },
     "execution_count": 66,
     "metadata": {},
     "output_type": "execute_result"
    }
   ],
   "source": [
    "#1.2\n",
    "heart_df.corr()"
   ]
  },
  {
   "cell_type": "markdown",
   "metadata": {},
   "source": [
    "**1.2a** Age and serum_creatinine are the two variables most positively correlated with the DEATH_EVENT variable."
   ]
  },
  {
   "cell_type": "markdown",
   "metadata": {},
   "source": [
    "**1.2b** Ejection_fraction and time are the two variables most negatively correlated with the DEATH_EVENT variable."
   ]
  },
  {
   "cell_type": "markdown",
   "metadata": {},
   "source": [
    "**1.2c** The second-most positively correlated variable with the DEATH_EVENT variable is Age. It makes sense that these two variables are positively correlated because as you get older, the rate of death by heart failure increases."
   ]
  },
  {
   "cell_type": "markdown",
   "metadata": {},
   "source": [
    "**1.2d** The two variables most negatively correlated with DEATH_EVENT are Time and Ejection_fraction. <br>\n",
    "Time being negatively correlated with DEATH_EVENT makes sense because the follow-time is likely shorter if a given patient passes. <br>\n",
    "Ejection_fraction being negatively correlated with DEATH_EVENT also makes sense because a the lower the fraction of blood a heart ejects, the unhealthier or weaker it may be, leading to an increased chance of heart failure and therefore the DEATH_EVENT. On the other hand, a healthier heart will likely eject larger fractions of blood, decreasing the chance of death through heart failure."
   ]
  },
  {
   "cell_type": "markdown",
   "metadata": {},
   "source": [
    "**1.3** To validate this dataset, we can check cariables for null entries. We can check for zeroes and whiespace entries on the following numerical variables:\n",
    "1. age\n",
    "2. creatinine_phosphokinase\n",
    "3. ejection_fraction\n",
    "4. platelets\n",
    "5. serum_creatinine\n",
    "6. serum_sodium\n",
    "\n",
    "<br> \n",
    "The other variables are either categorical in nature and cannot benefit from zero-checking, or are numerical with the possibility of zero, such as time with a possible same-day follow up. \n",
    "<br>\n",
    "We can also check all data entries for non-numeric and negative entries.\n",
    "<br>\n",
    "To finish off, we can check all data entries for invalid null, or whitespace, entries."
   ]
  },
  {
   "cell_type": "code",
   "execution_count": 67,
   "metadata": {},
   "outputs": [],
   "source": [
    "#Replace all zeroes in age, creatinine_phosphokinase, ejection_fraction, platelets, serum_creatinine, and serum_sodium with NaN.\n",
    "heart_df['age'].replace(0, np.nan, inplace = True)\n",
    "heart_df['creatinine_phosphokinase'].replace(0, np.nan, inplace = True)\n",
    "heart_df['ejection_fraction'].replace(0, np.nan, inplace = True)\n",
    "heart_df['platelets'].replace(0, np.nan, inplace = True)\n",
    "heart_df['serum_creatinine'].replace(0, np.nan, inplace = True)\n",
    "heart_df['serum_sodium'].replace(0, np.nan, inplace = True)\n",
    "\n",
    "#Replace all non-numeric entries with NaN.\n",
    "heart_df.replace(r'[a-zA-Z]', np.nan, inplace = True, regex = True)\n",
    "\n",
    "#Replace all negative entries with NaN.\n",
    "heart_df.replace(r'-', np.nan, inplace = True, regex = True)\n",
    "\n",
    "#Replace all whitespaces in entire dataset with NaN.\n",
    "heart_df.replace(r'^\\s*$', np.nan, inplace = True, regex=True)\n",
    "\n",
    "#Export to csv\n",
    "heart_df.to_csv('datasets/heart_failure_dataset_NaNs.csv', index=False)"
   ]
  },
  {
   "cell_type": "code",
   "execution_count": 68,
   "metadata": {},
   "outputs": [],
   "source": [
    "#1.4\n",
    "#Defining the non-categorical variables\n",
    "heart_numerical = [\"age\", \"creatinine_phosphokinase\", \"ejection_fraction\", \"platelets\", \"serum_creatinine\", \n",
    "                   \"serum_sodium\", \"time\"]\n",
    "\n",
    "#Normalizing the data using (df-df.mean())/df.std()\n",
    "#We set skipna to be true, so we can ignore NaN entries\n",
    "#We include an if statement at the end to ensure we are only processing the non-categorical independent variables.\n",
    "heart_df = heart_df.apply(lambda x: (x - x.mean(skipna = True))/x.std(skipna = True) if x.name in heart_numerical else x)"
   ]
  },
  {
   "cell_type": "code",
   "execution_count": 69,
   "metadata": {},
   "outputs": [
    {
     "name": "stdout",
     "output_type": "stream",
     "text": [
      "         age  anaemia  creatinine_phosphokinase  diabetes  ejection_fraction  \\\n",
      "0   1.190949        0                  0.000165         0          -1.527998   \n",
      "1  -0.490457        0                  7.502063         0          -0.007065   \n",
      "2   0.350246        0                 -0.449186         0          -1.527998   \n",
      "3  -0.910808        1                 -0.485257         0          -1.527998   \n",
      "4   0.350246        1                 -0.434757         1          -1.527998   \n",
      "5   2.452003        1                 -0.551217         0           0.161928   \n",
      "6   1.190949        1                 -0.346124         0          -1.950479   \n",
      "7  -0.070106        1                 -0.275011         1           1.851853   \n",
      "8   0.350246        0                 -0.437849         0           2.274335   \n",
      "9   1.611300        1                 -0.472890         0          -0.260554   \n",
      "10  1.190949        1                 -0.516176         0          -0.007065   \n",
      "11  0.098035        0                 -0.361583         0          -1.105517   \n",
      "12 -1.331160        1                  0.411384         0          -0.683035   \n",
      "13 -0.910808        1                 -0.426512         0          -0.007065   \n",
      "14 -0.994879        1                 -0.517207         0          -0.683035   \n",
      "15  1.779441        1                 -0.209051         0           1.006890   \n",
      "16  2.199792        1                 -0.446094         0          -0.007065   \n",
      "17 -1.331160        0                  0.000165         0          -2.034976   \n",
      "18  0.770597        1                 -0.470829         0          -1.105517   \n",
      "19 -1.078949        1                  0.000165         1           1.429372   \n",
      "\n",
      "    high_blood_pressure     platelets  serum_creatinine  serum_sodium  sex  \\\n",
      "0                     1  1.678834e-02          0.489237     -1.501519    1   \n",
      "1                     0  7.523048e-09         -0.284076     -0.141739    1   \n",
      "2                     0 -1.036336e+00         -0.090748     -1.728149    1   \n",
      "3                     0 -5.455595e-01          0.489237      0.084892    1   \n",
      "4                     0  6.507077e-01          1.262550     -4.674340    0   \n",
      "5                     1 -6.069065e-01          0.682565     -1.048259    1   \n",
      "6                     0 -1.394193e+00         -0.187412      0.084892    1   \n",
      "7                     0  1.949220e+00         -0.284076     -1.274889    1   \n",
      "8                     0  7.523048e-09          0.102580      0.311522    0   \n",
      "9                     1  1.274403e+00          7.739045     -0.821629    1   \n",
      "10                    1  1.069912e+00          2.519183     -1.274889    1   \n",
      "11                    1 -1.059057e-01         -0.477404      0.764782    1   \n",
      "12                    0 -1.302173e+00         -0.284076      0.084892    1   \n",
      "13                    1  1.292579e-01         -0.284076      0.084892    1   \n",
      "14                    1  1.673158e+00         -0.380740      0.311522    0   \n",
      "15                    0 -2.212154e+00         -0.090748     -0.141739    1   \n",
      "16                    0 -1.388518e-02         -0.477404      0.764782    1   \n",
      "17                    0 -9.954377e-01         -0.574068     -2.181409    1   \n",
      "18                    1 -2.694978e-01         -0.380740      0.764782    0   \n",
      "19                    0 -1.803174e+00          0.489237     -3.541189    0   \n",
      "\n",
      "    smoking      time  DEATH_EVENT  \n",
      "0         0 -1.626775            1  \n",
      "1         0 -1.601007            1  \n",
      "2         1 -1.588122            1  \n",
      "3         0 -1.588122            1  \n",
      "4         0 -1.575238            1  \n",
      "5         1 -1.575238            1  \n",
      "6         0 -1.549470            1  \n",
      "7         1 -1.549470            1  \n",
      "8         0 -1.549470            1  \n",
      "9         1 -1.549470            1  \n",
      "10        1 -1.549470            1  \n",
      "11        1 -1.549470            1  \n",
      "12        0 -1.536586            1  \n",
      "13        0 -1.536586            1  \n",
      "14        0 -1.523701            0  \n",
      "15        0 -1.510817            1  \n",
      "16        0 -1.497933            1  \n",
      "17        0 -1.497933            1  \n",
      "18        0 -1.485049            1  \n",
      "19        0 -1.485049            1  \n"
     ]
    }
   ],
   "source": [
    "print(heart_df.head(20))"
   ]
  },
  {
   "cell_type": "markdown",
   "metadata": {},
   "source": [
    "**1.5** To utilize one-hot encoding, we can process the DEATH_EVENT variable and output two dependent variables: Remaining and Deceased. To do this, we can create a new column for Remaining, and we can reuse the DEATH_EVENT column for our Deceased column."
   ]
  },
  {
   "cell_type": "code",
   "execution_count": 70,
   "metadata": {},
   "outputs": [],
   "source": [
    "#Create new Remaining column based off of when DEATH_EVENT is zero\n",
    "heart_df['Remaining'] = (heart_df['DEATH_EVENT'] == 0) * 1\n",
    "\n",
    "#Reuse the DEATH_EVENT column as our Deceased column\n",
    "heart_df.rename(columns = {'DEATH_EVENT' : 'Deceased'}, inplace = True)\n",
    "\n",
    "#Export to csv\n",
    "heart_df.to_csv('datasets/heart_failure_dataset_processed.csv', index = False)"
   ]
  },
  {
   "cell_type": "markdown",
   "metadata": {},
   "source": [
    "# 2. Pima Indians Diabetes Dataset"
   ]
  },
  {
   "cell_type": "code",
   "execution_count": 71,
   "metadata": {},
   "outputs": [],
   "source": [
    "diabetes_df = pd.read_csv('datasets/diabetes_dataset.csv')\n"
   ]
  },
  {
   "cell_type": "code",
   "execution_count": 72,
   "metadata": {},
   "outputs": [
    {
     "name": "stdout",
     "output_type": "stream",
     "text": [
      "(768, 9)\n",
      "[RangeIndex(start=0, stop=768, step=1), Index(['Pregnancies', 'Glucose', 'BloodPressure', 'SkinThickness', 'Insulin',\n",
      "       'BMI', 'DiabetesPedigreeFunction', 'Age', 'Outcome'],\n",
      "      dtype='object')]\n",
      "Pregnancies                   int64\n",
      "Glucose                       int64\n",
      "BloodPressure                 int64\n",
      "SkinThickness                 int64\n",
      "Insulin                       int64\n",
      "BMI                         float64\n",
      "DiabetesPedigreeFunction    float64\n",
      "Age                           int64\n",
      "Outcome                       int64\n",
      "dtype: object\n"
     ]
    }
   ],
   "source": [
    "#2.1a\n",
    "print(diabetes_df.shape)\n",
    "print(diabetes_df.axes)\n",
    "print(diabetes_df.dtypes)"
   ]
  },
  {
   "cell_type": "code",
   "execution_count": 73,
   "metadata": {},
   "outputs": [
    {
     "name": "stdout",
     "output_type": "stream",
     "text": [
      "   Pregnancies  Glucose  BloodPressure  SkinThickness  Insulin   BMI  \\\n",
      "0            6      148             72             35        0  33.6   \n",
      "1            1       85             66             29        0  26.6   \n",
      "2            8      183             64              0        0  23.3   \n",
      "3            1       89             66             23       94  28.1   \n",
      "4            0      137             40             35      168  43.1   \n",
      "5            5      116             74              0        0  25.6   \n",
      "6            3       78             50             32       88  31.0   \n",
      "7           10      115              0              0        0  35.3   \n",
      "8            2      197             70             45      543  30.5   \n",
      "9            8      125             96              0        0   0.0   \n",
      "\n",
      "   DiabetesPedigreeFunction  Age  Outcome  \n",
      "0                     0.627   50        1  \n",
      "1                     0.351   31        0  \n",
      "2                     0.672   32        1  \n",
      "3                     0.167   21        0  \n",
      "4                     2.288   33        1  \n",
      "5                     0.201   30        0  \n",
      "6                     0.248   26        1  \n",
      "7                     0.134   29        0  \n",
      "8                     0.158   53        1  \n",
      "9                     0.232   54        1  \n"
     ]
    }
   ],
   "source": [
    "#2.1b\n",
    "print(diabetes_df.head(10))"
   ]
  },
  {
   "cell_type": "markdown",
   "metadata": {},
   "source": [
    "**2.1c** We are dealing with a supervised learning problem. This is because our dataset has a distinct labelled output, outcome. We are attempting to find relationships between the input and output variables to evaluate whether or not a person has diabetes."
   ]
  },
  {
   "cell_type": "markdown",
   "metadata": {},
   "source": [
    "**2.1d** This dataset has 8 independent variables. These variables are:\n",
    "1. Pregnancies\n",
    "2. Glucose\n",
    "3. BloodPressure\n",
    "4. SkinThickness\n",
    "5. Insulin\n",
    "6. BMI\n",
    "7. DiabetesPedigreeFunction\n",
    "8. Age\n"
   ]
  },
  {
   "cell_type": "markdown",
   "metadata": {},
   "source": [
    "**2.1e** This dataset has only 1 dependent variable.\n",
    "- Outcome"
   ]
  },
  {
   "cell_type": "markdown",
   "metadata": {},
   "source": [
    "**2.1f** This dataset has only 1 categorical variable.\n",
    "- Outcome"
   ]
  },
  {
   "cell_type": "markdown",
   "metadata": {},
   "source": [
    "**2.1g** This categorical variable uses ordinal encoding."
   ]
  },
  {
   "cell_type": "code",
   "execution_count": 74,
   "metadata": {},
   "outputs": [
    {
     "name": "stdout",
     "output_type": "stream",
     "text": [
      "Young adults: 574\n",
      "Middle-aged adults: 167\n",
      "Old-aged adults: 27\n"
     ]
    }
   ],
   "source": [
    "#2.1h\n",
    "print(\"Young adults:\", len(diabetes_df[(diabetes_df.Age >= 21) & (diabetes_df.Age <= 40)]))\n",
    "print(\"Middle-aged adults:\", len(diabetes_df[(diabetes_df.Age >= 41) & (diabetes_df.Age <= 60)]))\n",
    "print(\"Old-aged adults:\", len(diabetes_df[(diabetes_df.Age >= 61)]))\n"
   ]
  },
  {
   "cell_type": "markdown",
   "metadata": {},
   "source": [
    "There are 574 Young adults, 167 Middle-aged adults, and 27 Old-aged adults."
   ]
  },
  {
   "cell_type": "markdown",
   "metadata": {},
   "source": [
    "**2.2** To validate this dataset, we can check cariables for null entries. We can check for zero entries on the following numerical variables:\n",
    "1. Glucose\n",
    "2. BloodPressure\n",
    "3. SkinThickness\n",
    "4. Insulin\n",
    "5. BMI\n",
    "6. DiabetesPedigreeFunction\n",
    "7. Age\n",
    "\n",
    "<br> \n",
    "The other variable is Pregnancies, where a value of zero is valid.\n",
    "<br>\n",
    "We can also check all data entries for non-numeric and negative entries.\n",
    "<br>\n",
    "To finish off, we can check all data entries for invalid null, or whitespace, entries."
   ]
  },
  {
   "cell_type": "code",
   "execution_count": 75,
   "metadata": {},
   "outputs": [
    {
     "name": "stdout",
     "output_type": "stream",
     "text": [
      "    Pregnancies  Glucose  BloodPressure  SkinThickness  Insulin   BMI  \\\n",
      "0             6    148.0           72.0           35.0      NaN  33.6   \n",
      "1             1     85.0           66.0           29.0      NaN  26.6   \n",
      "2             8    183.0           64.0            NaN      NaN  23.3   \n",
      "3             1     89.0           66.0           23.0     94.0  28.1   \n",
      "4             0    137.0           40.0           35.0    168.0  43.1   \n",
      "5             5    116.0           74.0            NaN      NaN  25.6   \n",
      "6             3     78.0           50.0           32.0     88.0  31.0   \n",
      "7            10    115.0            NaN            NaN      NaN  35.3   \n",
      "8             2    197.0           70.0           45.0    543.0  30.5   \n",
      "9             8    125.0           96.0            NaN      NaN   NaN   \n",
      "10            4    110.0           92.0            NaN      NaN  37.6   \n",
      "11           10    168.0           74.0            NaN      NaN  38.0   \n",
      "12           10    139.0           80.0            NaN      NaN  27.1   \n",
      "13            1    189.0           60.0           23.0    846.0  30.1   \n",
      "14            5    166.0           72.0           19.0    175.0  25.8   \n",
      "15            7    100.0            NaN            NaN      NaN  30.0   \n",
      "16            0    118.0           84.0           47.0    230.0  45.8   \n",
      "17            7    107.0           74.0            NaN      NaN  29.6   \n",
      "18            1    103.0           30.0           38.0     83.0  43.3   \n",
      "19            1    115.0           70.0           30.0     96.0  34.6   \n",
      "\n",
      "    DiabetesPedigreeFunction  Age  Outcome  \n",
      "0                      0.627   50        1  \n",
      "1                      0.351   31        0  \n",
      "2                      0.672   32        1  \n",
      "3                      0.167   21        0  \n",
      "4                      2.288   33        1  \n",
      "5                      0.201   30        0  \n",
      "6                      0.248   26        1  \n",
      "7                      0.134   29        0  \n",
      "8                      0.158   53        1  \n",
      "9                      0.232   54        1  \n",
      "10                     0.191   30        0  \n",
      "11                     0.537   34        1  \n",
      "12                     1.441   57        0  \n",
      "13                     0.398   59        1  \n",
      "14                     0.587   51        1  \n",
      "15                     0.484   32        1  \n",
      "16                     0.551   31        1  \n",
      "17                     0.254   31        1  \n",
      "18                     0.183   33        0  \n",
      "19                     0.529   32        1  \n"
     ]
    }
   ],
   "source": [
    "#Replace all zeroes in Glucose, BloodPressure, SkinThickness, Insulin, BMI, DiabetesPedigreeFunction, and Age with NaN.\n",
    "diabetes_df['Glucose'].replace(0, np.nan, inplace = True)\n",
    "diabetes_df['BloodPressure'].replace(0, np.nan, inplace = True)\n",
    "diabetes_df['SkinThickness'].replace(0, np.nan, inplace = True)\n",
    "diabetes_df['Insulin'].replace(0, np.nan, inplace = True)\n",
    "diabetes_df['BMI'].replace(0, np.nan, inplace = True)\n",
    "diabetes_df['DiabetesPedigreeFunction'].replace(0, np.nan, inplace = True)\n",
    "diabetes_df['Age'].replace(0, np.nan, inplace = True)\n",
    "\n",
    "#Replace all non-numeric entries with NaN.\n",
    "diabetes_df.replace(r'[a-zA-Z]', np.nan, inplace = True, regex = True)\n",
    "\n",
    "#Replace all negative entries with NaN.\n",
    "diabetes_df.replace(r'-', np.nan, inplace = True, regex = True)\n",
    "\n",
    "#Replace all whitespaces in entire dataset with NaN.\n",
    "diabetes_df.replace(r'^\\s*$', np.nan, inplace = True, regex=True)\n",
    "\n",
    "#Print\n",
    "print(diabetes_df.head(20))"
   ]
  },
  {
   "cell_type": "code",
   "execution_count": 76,
   "metadata": {},
   "outputs": [
    {
     "name": "stdout",
     "output_type": "stream",
     "text": [
      "    Pregnancies   Glucose  BloodPressure  SkinThickness   Insulin       BMI  \\\n",
      "0      0.639530  0.861722      -0.032723       0.558040       NaN  0.164987   \n",
      "1     -0.844335 -1.201441      -0.517291      -0.014643       NaN -0.845845   \n",
      "2      1.233077  2.007924      -0.678814            NaN       NaN -1.322380   \n",
      "3     -0.844335 -1.070446      -0.517291      -0.587327 -0.518188 -0.629238   \n",
      "4     -1.141108  0.501487      -2.617087       0.558040  0.104834  1.536831   \n",
      "5      0.342757 -0.186234       0.128800            NaN       NaN -0.990249   \n",
      "6     -0.250789 -1.430681      -1.809473       0.271699 -0.568703 -0.210464   \n",
      "7      1.826623 -0.218982            NaN            NaN       NaN  0.410475   \n",
      "8     -0.547562  2.466404      -0.194246       1.512514  3.262042 -0.282667   \n",
      "9      1.233077  0.108504       1.905550            NaN       NaN       NaN   \n",
      "10     0.045984 -0.382725       1.582504            NaN       NaN  0.742606   \n",
      "11     1.826623  1.516694       0.128800            NaN       NaN  0.800368   \n",
      "12     1.826623  0.566985       0.613368            NaN       NaN -0.773642   \n",
      "13    -0.844335  2.204415      -1.001860      -0.587327  5.813065 -0.340429   \n",
      "14     0.342757  1.451197      -0.032723      -0.969117  0.163769 -0.961368   \n",
      "15     0.936304 -0.710211            NaN            NaN       NaN -0.354869   \n",
      "16    -1.141108 -0.120736       0.936413       1.703408  0.626826  1.926723   \n",
      "17     0.936304 -0.480971       0.128800            NaN       NaN -0.412631   \n",
      "18    -0.844335 -0.611966      -3.424701       0.844382 -0.610799  1.565712   \n",
      "19    -0.844335 -0.218982      -0.194246       0.080804 -0.501350  0.309392   \n",
      "\n",
      "    DiabetesPedigreeFunction       Age  Outcome  \n",
      "0                   0.468187  1.425067        1  \n",
      "1                  -0.364823 -0.190548        0  \n",
      "2                   0.604004 -0.105515        1  \n",
      "3                  -0.920163 -1.040871        0  \n",
      "4                   5.481337 -0.020483        1  \n",
      "5                  -0.817546 -0.275580        0  \n",
      "6                  -0.675693 -0.615709        1  \n",
      "7                  -1.019762 -0.360612        0  \n",
      "8                  -0.947326  1.680164        1  \n",
      "9                  -0.723983  1.765196        1  \n",
      "10                 -0.847727 -0.275580        0  \n",
      "11                  0.196553  0.064549        1  \n",
      "12                  2.924962  2.020293        0  \n",
      "13                 -0.222970  2.190358        1  \n",
      "14                  0.347461  1.510099        1  \n",
      "15                  0.036591 -0.105515        1  \n",
      "16                  0.238807 -0.190548        1  \n",
      "17                 -0.657584 -0.190548        1  \n",
      "18                 -0.871873 -0.020483        0  \n",
      "19                  0.172408 -0.105515        1  \n"
     ]
    }
   ],
   "source": [
    "#2.3\n",
    "#Defining the non-categorical variables\n",
    "diabetes_numerical = [\"Pregnancies\", \"Glucose\", \"BloodPressure\", \"SkinThickness\", \"Insulin\", \n",
    "                      \"BMI\", \"DiabetesPedigreeFunction\", \"Age\"]\n",
    "\n",
    "#Normalizing the data using (df-df.mean())/df.std()\n",
    "#We set skipna to be true, so we can ignore NaN entries\n",
    "#We include an if statement at the end to ensure we are only processing the non-categorical independent variables.\n",
    "diabetes_df = diabetes_df.apply(lambda x: (x - x.mean(skipna = True))/x.std(skipna = True) if x.name in diabetes_numerical else x)\n",
    "\n",
    "#Print\n",
    "print(diabetes_df.head(20))"
   ]
  },
  {
   "cell_type": "markdown",
   "metadata": {},
   "source": [
    "**2.4** To utilize one-hot encoding, we can process the Outcome variable and output two dependent variables: HasDiabetes and NoDiabetes. To do this, we can create a new column for NoDiabetes, and we can reuse the Outcome column for our Deceased column."
   ]
  },
  {
   "cell_type": "code",
   "execution_count": 77,
   "metadata": {},
   "outputs": [],
   "source": [
    "#Create new Remaining column based off of when DEATH_EVENT is zero\n",
    "diabetes_df['NoDiabetes'] = (diabetes_df['Outcome'] == 0) * 1\n",
    "\n",
    "#Reuse the DEATH_EVENT column as our Deceased column\n",
    "diabetes_df.rename(columns = {'Outcome' : 'HasDiabetes'}, inplace = True)\n"
   ]
  },
  {
   "cell_type": "code",
   "execution_count": 78,
   "metadata": {},
   "outputs": [],
   "source": [
    "#2.5\n",
    "#Create new dataframe that is grouped by the dependent variable HasDiabetes.\n",
    "#This variable is equivalent to Outcome.\n",
    "#This new dataframe, median_df, contains median of each variable depending on Outcome (0, 1)\n",
    "median_df = diabetes_df.groupby('HasDiabetes').transform(np.median)\n",
    "#Replaces all null spaces (NaN) with the median for that value, value stored in median_df\n",
    "diabetes_df[diabetes_df.isnull()] = median_df\n",
    "\n",
    "#Export to csv\n",
    "diabetes_df.to_csv('datasets/diabetes_dataset_processed.csv', index = False)"
   ]
  }
 ],
 "metadata": {
  "kernelspec": {
   "display_name": "Notebook1",
   "language": "python",
   "name": "notebook1"
  },
  "language_info": {
   "codemirror_mode": {
    "name": "ipython",
    "version": 3
   },
   "file_extension": ".py",
   "mimetype": "text/x-python",
   "name": "python",
   "nbconvert_exporter": "python",
   "pygments_lexer": "ipython3",
   "version": "3.8.5"
  }
 },
 "nbformat": 4,
 "nbformat_minor": 4
}
